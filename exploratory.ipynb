{
 "cells": [
  {
   "cell_type": "markdown",
   "metadata": {},
   "source": [
    "Thoughts on satellite data:\n",
    "- How to find image similarity, do I use PCA / dimensionality reduction or something else? Is statistical significance useful here?\n",
    "    - Auto-encoder -> neural network way of doing dimensionality \n",
    "        - Takes input layer of feature data, you choose a smaller layer for the hidden layer, then the final layer is the input layer again.\n",
    "        - Can our network take the input, reduce it, and then represent the input layer again?\n",
    "        - Clustering with auto-encoders\n",
    "        - Assumes that every pixel has the same weight\n",
    "\n",
    "\n",
    "- Use simple random forest model\n",
    "    - Run an algorithm on all bands separately, and then do an ensemble model where they vote\n",
    "    - Run another model with 13 inputs of the past models\n",
    "\n",
    "\n",
    "- Invert the way you’re doing this project -> run the model first, then try to do EDA from there\n",
    "    - BUT STILL TRY TO DO AS MUCH EDA AS POSSIBLE\n",
    "\n",
    "\n",
    "- Questions to ask during analysis:\n",
    "    - How does this model affect the project we’re creating?\n",
    "    - How can downstream teams benefit from this project?\n",
    "    - How can upstream data add to this model?\n",
    "    - How does it fit into product generating?"
   ]
  },
  {
   "cell_type": "code",
   "execution_count": null,
   "metadata": {},
   "outputs": [],
   "source": []
  }
 ],
 "metadata": {
  "kernelspec": {
   "display_name": "Python 3",
   "language": "python",
   "name": "python3"
  },
  "language_info": {
   "codemirror_mode": {
    "name": "ipython",
    "version": 3
   },
   "file_extension": ".py",
   "mimetype": "text/x-python",
   "name": "python",
   "nbconvert_exporter": "python",
   "pygments_lexer": "ipython3",
   "version": "3.7.2"
  }
 },
 "nbformat": 4,
 "nbformat_minor": 2
}
